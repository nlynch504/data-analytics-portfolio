{
 "cells": [
  {
   "cell_type": "markdown",
   "metadata": {},
   "source": [
    "# Bank marketing classification project"
   ]
  },
  {
   "cell_type": "code",
   "execution_count": 1,
   "metadata": {},
   "outputs": [],
   "source": [
    "#enable auto complete\n",
    "%config IPCompleter.greedy=True"
   ]
  },
  {
   "cell_type": "code",
   "execution_count": 2,
   "metadata": {},
   "outputs": [],
   "source": [
    "#import libraries\n",
    "import os, scipy\n",
    "import pandas as pd\n",
    "import numpy as np\n",
    "import matplotlib.pyplot as plt\n",
    "import seaborn as sns\n",
    "\n",
    "#sklearn models\n",
    "from sklearn.model_selection import train_test_split, cross_val_score, RandomizedSearchCV, GridSearchCV\n",
    "from sklearn.ensemble import RandomForestClassifier\n",
    "from sklearn.neighbors import KNeighborsClassifier\n",
    "from sklearn.svm import SVC\n",
    "\n",
    "#pipelines dimension reduction\n",
    "from sklearn.pipeline import Pipeline, make_pipeline\n",
    "from sklearn.preprocessing import StandardScaler\n",
    "from sklearn.decomposition import PCA\n",
    "\n",
    "#sklearn classification accuracy metrics\n",
    "from sklearn.metrics import confusion_matrix, classification_report, roc_curve, f1_score\n"
   ]
  },
  {
   "cell_type": "code",
   "execution_count": 3,
   "metadata": {},
   "outputs": [
    {
     "name": "stdout",
     "output_type": "stream",
     "text": [
      "   age         job  marital education default  balance housing loan  contact  \\\n",
      "0   58  management  married  tertiary      no     2143     yes   no  unknown   \n",
      "\n",
      "   day month  duration  campaign  pdays  previous poutcome   y  \n",
      "0    5   may       261         1     -1         0  unknown  no  \n"
     ]
    }
   ],
   "source": [
    "# import dataset and create copy\n",
    "df = pd.read_csv('bank-full.csv', sep=';', header=0)\n",
    "df_copy = df.copy()\n",
    "print(df_copy.head(1))"
   ]
  },
  {
   "cell_type": "code",
   "execution_count": 4,
   "metadata": {},
   "outputs": [
    {
     "name": "stdout",
     "output_type": "stream",
     "text": [
      "<class 'pandas.core.frame.DataFrame'>\n",
      "RangeIndex: 45211 entries, 0 to 45210\n",
      "Data columns (total 17 columns):\n",
      "age          45211 non-null int64\n",
      "job          45211 non-null object\n",
      "marital      45211 non-null object\n",
      "education    45211 non-null object\n",
      "default      45211 non-null object\n",
      "balance      45211 non-null int64\n",
      "housing      45211 non-null object\n",
      "loan         45211 non-null object\n",
      "contact      45211 non-null object\n",
      "day          45211 non-null int64\n",
      "month        45211 non-null object\n",
      "duration     45211 non-null int64\n",
      "campaign     45211 non-null int64\n",
      "pdays        45211 non-null int64\n",
      "previous     45211 non-null int64\n",
      "poutcome     45211 non-null object\n",
      "y            45211 non-null object\n",
      "dtypes: int64(7), object(10)\n",
      "memory usage: 5.9+ MB\n"
     ]
    }
   ],
   "source": [
    "df_copy.info()"
   ]
  },
  {
   "cell_type": "code",
   "execution_count": 5,
   "metadata": {},
   "outputs": [
    {
     "data": {
      "text/html": [
       "<div>\n",
       "<style scoped>\n",
       "    .dataframe tbody tr th:only-of-type {\n",
       "        vertical-align: middle;\n",
       "    }\n",
       "\n",
       "    .dataframe tbody tr th {\n",
       "        vertical-align: top;\n",
       "    }\n",
       "\n",
       "    .dataframe thead th {\n",
       "        text-align: right;\n",
       "    }\n",
       "</style>\n",
       "<table border=\"1\" class=\"dataframe\">\n",
       "  <thead>\n",
       "    <tr style=\"text-align: right;\">\n",
       "      <th></th>\n",
       "      <th>age</th>\n",
       "      <th>balance</th>\n",
       "      <th>day</th>\n",
       "      <th>duration</th>\n",
       "      <th>campaign</th>\n",
       "      <th>pdays</th>\n",
       "      <th>previous</th>\n",
       "    </tr>\n",
       "  </thead>\n",
       "  <tbody>\n",
       "    <tr>\n",
       "      <th>count</th>\n",
       "      <td>45211.000000</td>\n",
       "      <td>45211.000000</td>\n",
       "      <td>45211.000000</td>\n",
       "      <td>45211.000000</td>\n",
       "      <td>45211.000000</td>\n",
       "      <td>45211.000000</td>\n",
       "      <td>45211.000000</td>\n",
       "    </tr>\n",
       "    <tr>\n",
       "      <th>mean</th>\n",
       "      <td>40.936210</td>\n",
       "      <td>1362.272058</td>\n",
       "      <td>15.806419</td>\n",
       "      <td>258.163080</td>\n",
       "      <td>2.763841</td>\n",
       "      <td>40.197828</td>\n",
       "      <td>0.580323</td>\n",
       "    </tr>\n",
       "    <tr>\n",
       "      <th>std</th>\n",
       "      <td>10.618762</td>\n",
       "      <td>3044.765829</td>\n",
       "      <td>8.322476</td>\n",
       "      <td>257.527812</td>\n",
       "      <td>3.098021</td>\n",
       "      <td>100.128746</td>\n",
       "      <td>2.303441</td>\n",
       "    </tr>\n",
       "    <tr>\n",
       "      <th>min</th>\n",
       "      <td>18.000000</td>\n",
       "      <td>-8019.000000</td>\n",
       "      <td>1.000000</td>\n",
       "      <td>0.000000</td>\n",
       "      <td>1.000000</td>\n",
       "      <td>-1.000000</td>\n",
       "      <td>0.000000</td>\n",
       "    </tr>\n",
       "    <tr>\n",
       "      <th>25%</th>\n",
       "      <td>33.000000</td>\n",
       "      <td>72.000000</td>\n",
       "      <td>8.000000</td>\n",
       "      <td>103.000000</td>\n",
       "      <td>1.000000</td>\n",
       "      <td>-1.000000</td>\n",
       "      <td>0.000000</td>\n",
       "    </tr>\n",
       "    <tr>\n",
       "      <th>50%</th>\n",
       "      <td>39.000000</td>\n",
       "      <td>448.000000</td>\n",
       "      <td>16.000000</td>\n",
       "      <td>180.000000</td>\n",
       "      <td>2.000000</td>\n",
       "      <td>-1.000000</td>\n",
       "      <td>0.000000</td>\n",
       "    </tr>\n",
       "    <tr>\n",
       "      <th>75%</th>\n",
       "      <td>48.000000</td>\n",
       "      <td>1428.000000</td>\n",
       "      <td>21.000000</td>\n",
       "      <td>319.000000</td>\n",
       "      <td>3.000000</td>\n",
       "      <td>-1.000000</td>\n",
       "      <td>0.000000</td>\n",
       "    </tr>\n",
       "    <tr>\n",
       "      <th>max</th>\n",
       "      <td>95.000000</td>\n",
       "      <td>102127.000000</td>\n",
       "      <td>31.000000</td>\n",
       "      <td>4918.000000</td>\n",
       "      <td>63.000000</td>\n",
       "      <td>871.000000</td>\n",
       "      <td>275.000000</td>\n",
       "    </tr>\n",
       "  </tbody>\n",
       "</table>\n",
       "</div>"
      ],
      "text/plain": [
       "                age        balance           day      duration      campaign  \\\n",
       "count  45211.000000   45211.000000  45211.000000  45211.000000  45211.000000   \n",
       "mean      40.936210    1362.272058     15.806419    258.163080      2.763841   \n",
       "std       10.618762    3044.765829      8.322476    257.527812      3.098021   \n",
       "min       18.000000   -8019.000000      1.000000      0.000000      1.000000   \n",
       "25%       33.000000      72.000000      8.000000    103.000000      1.000000   \n",
       "50%       39.000000     448.000000     16.000000    180.000000      2.000000   \n",
       "75%       48.000000    1428.000000     21.000000    319.000000      3.000000   \n",
       "max       95.000000  102127.000000     31.000000   4918.000000     63.000000   \n",
       "\n",
       "              pdays      previous  \n",
       "count  45211.000000  45211.000000  \n",
       "mean      40.197828      0.580323  \n",
       "std      100.128746      2.303441  \n",
       "min       -1.000000      0.000000  \n",
       "25%       -1.000000      0.000000  \n",
       "50%       -1.000000      0.000000  \n",
       "75%       -1.000000      0.000000  \n",
       "max      871.000000    275.000000  "
      ]
     },
     "execution_count": 5,
     "metadata": {},
     "output_type": "execute_result"
    }
   ],
   "source": [
    "# find range for numeric var copy_bank.describe()\n",
    "df_copy.describe()"
   ]
  },
  {
   "cell_type": "code",
   "execution_count": 6,
   "metadata": {},
   "outputs": [
    {
     "name": "stdout",
     "output_type": "stream",
     "text": [
      "['management' 'technician' 'entrepreneur' 'blue-collar' 'unknown'\n",
      " 'retired' 'admin.' 'services' 'self-employed' 'unemployed' 'housemaid'\n",
      " 'student']\n",
      "['married' 'single' 'divorced']\n",
      "['tertiary' 'secondary' 'unknown' 'primary']\n",
      "['no' 'yes']\n",
      "['yes' 'no']\n",
      "['no' 'yes']\n",
      "['unknown' 'cellular' 'telephone']\n",
      "['may' 'jun' 'jul' 'aug' 'oct' 'nov' 'dec' 'jan' 'feb' 'mar' 'apr' 'sep']\n",
      "['unknown' 'failure' 'other' 'success']\n",
      "['no' 'yes']\n"
     ]
    },
    {
     "data": {
      "text/plain": [
       "job          None\n",
       "marital      None\n",
       "education    None\n",
       "default      None\n",
       "housing      None\n",
       "loan         None\n",
       "contact      None\n",
       "month        None\n",
       "poutcome     None\n",
       "y            None\n",
       "dtype: object"
      ]
     },
     "execution_count": 6,
     "metadata": {},
     "output_type": "execute_result"
    }
   ],
   "source": [
    "#conform unique value count\n",
    "df_copy.select_dtypes(include='object').apply(lambda i: print(i.unique()))"
   ]
  },
  {
   "cell_type": "markdown",
   "metadata": {},
   "source": [
    "# data dictionary\n",
    "\n",
    "### Dependent variable (categorical data type)\n",
    "* **y:** has the client subscribed a term deposit? (yes, no)\n",
    "\n",
    "## Object ariables \n",
    "\n",
    "* **job :** (admin, technician, services, management, retired, blue-collar, unemployed, entrepreneur, housemaid, unknown, self-employed, student)\n",
    "* **marital:** (married, single, divorced)\n",
    "* **education:** (primary, secondary, tertiary, unknown)\n",
    "* **default:** has credit in default? (yes, no)\n",
    "* **housing:** has housing loan? (yes, no)\n",
    "* **loan:** has personal loan? (yes, no)\n",
    "\n",
    "### Related with the last contact of the current campaign:\n",
    "* **contact:** contact communication type (unknown, cellular, telephone)\n",
    "* **month:** last contact month of year (jan, feb, mar, apr, may, jun, jul, aug, sep, oct, nov, dec)\n",
    "* **poutcome:** outcome of the previous marketing campaign (unknown, other, failure, success)\n",
    "\n",
    "## Numerical Variables\n",
    "* **age**: [18,95]\n",
    "* **balance**: average yearly balance, in euros [-8,019, 102,127]\n",
    "* **day:** last contact day of the month [1, 31]\n",
    "* **campaign**: number of contacts performed during this campaign and for this client (includes last contact) [1, 63]\n",
    "* **pdays**: number of days that passed by after the client was last contacted from a previous campaign (numeric; \"-1\" means client was not previously contacted)[-1, 871]\n",
    "* **previous**: number of contacts performed before this campaign and for this client [0, 275]\n",
    "\n",
    "## Removed for prediction purposes\n",
    "* **duration**: last contact duration, in seconds (numeric). Important note: this attribute highly affects the output target (e.g., if duration=0 then y='no'). Yet, the duration is not known before a call is performed. Also, after the end of the call y is obviously known. Thus, this input should only be included for benchmark purposes and should be discarded if the intention is to have a realistic predictive model. [0, 4,918]\n",
    "\n",
    "\n",
    "\n",
    "\n"
   ]
  },
  {
   "cell_type": "code",
   "execution_count": 7,
   "metadata": {},
   "outputs": [
    {
     "name": "stdout",
     "output_type": "stream",
     "text": [
      "white collar     14629\n",
      "blue-collar       9732\n",
      "technician        7597\n",
      "pink collar       5394\n",
      "other             4793\n",
      "self-employed     1579\n",
      "entrepreneur      1487\n",
      "Name: job, dtype: int64\n"
     ]
    }
   ],
   "source": [
    "#remove duration\n",
    "df_copy.drop(['duration'], axis=1, inplace=True)\n",
    "\n",
    "# group into smaller categories\n",
    "df_copy.job = df_copy.job.replace(['management', 'admin.'],'white collar')\n",
    "df_copy.job = df_copy.job.replace(['services','housemaid'],'pink collar')\n",
    "df_copy.job = df_copy.job.replace(['student','unknown', 'retired','unemployed'],'other')\n",
    "\n",
    "print(df_copy.job.value_counts())"
   ]
  },
  {
   "cell_type": "code",
   "execution_count": 8,
   "metadata": {},
   "outputs": [
    {
     "name": "stdout",
     "output_type": "stream",
     "text": [
      "<class 'pandas.core.frame.DataFrame'>\n",
      "RangeIndex: 45211 entries, 0 to 45210\n",
      "Data columns (total 16 columns):\n",
      "age          45211 non-null int64\n",
      "job          45211 non-null object\n",
      "marital      45211 non-null object\n",
      "education    45211 non-null object\n",
      "default      45211 non-null int64\n",
      "balance      45211 non-null int64\n",
      "housing      45211 non-null int64\n",
      "loan         45211 non-null int64\n",
      "contact      45211 non-null object\n",
      "day          45211 non-null int64\n",
      "month        45211 non-null int64\n",
      "campaign     45211 non-null int64\n",
      "pdays        45211 non-null int64\n",
      "previous     45211 non-null int64\n",
      "poutcome     45211 non-null object\n",
      "y            45211 non-null int64\n",
      "dtypes: int64(11), object(5)\n",
      "memory usage: 5.5+ MB\n"
     ]
    }
   ],
   "source": [
    "# map data for simple object variables\n",
    "\n",
    "# dictionary for data cleanup\n",
    "dict_clean_up = {\n",
    "    'month': {'jan':1, 'feb':2, 'mar':3, 'apr':4, 'may':5, 'jun':6, 'jul':7, 'aug':8, 'sep':9, 'oct':10, 'nov':11, 'dec':12},\n",
    "    'default':{'yes':1, 'no':0},\n",
    "    'housing':{'yes':1, 'no':0},\n",
    "    'loan':{'yes':1, 'no':0},\n",
    "    'y':{'yes':1, 'no':0}\n",
    "}\n",
    "              \n",
    "df_copy.replace(dict_clean_up, inplace=True)\n",
    "df_copy.info()\n"
   ]
  },
  {
   "cell_type": "code",
   "execution_count": 9,
   "metadata": {},
   "outputs": [],
   "source": [
    "# dummify more complex data objects \n",
    "df_dummies = pd.get_dummies(data=df_copy, columns=['job', 'marital', 'education', 'contact', 'poutcome' ,], prefix = ['job', 'marital', 'education', 'contact', 'poutcome'])\n"
   ]
  },
  {
   "cell_type": "code",
   "execution_count": 10,
   "metadata": {},
   "outputs": [
    {
     "name": "stdout",
     "output_type": "stream",
     "text": [
      "<class 'pandas.core.frame.DataFrame'>\n",
      "RangeIndex: 45211 entries, 0 to 45210\n",
      "Data columns (total 32 columns):\n",
      "age                    45211 non-null int64\n",
      "default                45211 non-null int64\n",
      "balance                45211 non-null int64\n",
      "housing                45211 non-null int64\n",
      "loan                   45211 non-null int64\n",
      "day                    45211 non-null int64\n",
      "month                  45211 non-null int64\n",
      "campaign               45211 non-null int64\n",
      "pdays                  45211 non-null int64\n",
      "previous               45211 non-null int64\n",
      "y                      45211 non-null int64\n",
      "job_blue-collar        45211 non-null uint8\n",
      "job_entrepreneur       45211 non-null uint8\n",
      "job_other              45211 non-null uint8\n",
      "job_pink collar        45211 non-null uint8\n",
      "job_self-employed      45211 non-null uint8\n",
      "job_technician         45211 non-null uint8\n",
      "job_white collar       45211 non-null uint8\n",
      "marital_divorced       45211 non-null uint8\n",
      "marital_married        45211 non-null uint8\n",
      "marital_single         45211 non-null uint8\n",
      "education_primary      45211 non-null uint8\n",
      "education_secondary    45211 non-null uint8\n",
      "education_tertiary     45211 non-null uint8\n",
      "education_unknown      45211 non-null uint8\n",
      "contact_cellular       45211 non-null uint8\n",
      "contact_telephone      45211 non-null uint8\n",
      "contact_unknown        45211 non-null uint8\n",
      "poutcome_failure       45211 non-null uint8\n",
      "poutcome_other         45211 non-null uint8\n",
      "poutcome_success       45211 non-null uint8\n",
      "poutcome_unknown       45211 non-null uint8\n",
      "dtypes: int64(11), uint8(21)\n",
      "memory usage: 4.7 MB\n"
     ]
    }
   ],
   "source": [
    "#check data types\n",
    "df_dummies.info()"
   ]
  },
  {
   "cell_type": "markdown",
   "metadata": {},
   "source": [
    "# Correlations"
   ]
  },
  {
   "cell_type": "code",
   "execution_count": 11,
   "metadata": {},
   "outputs": [],
   "source": [
    "# make correlation, covariance matrices and export\n",
    "df_corr = df_dummies.corr()\n",
    "df_cov = df_dummies.cov()\n",
    "df_corr.to_csv('corr.csv')\n",
    "df_cov.to_csv('cov.csv')"
   ]
  },
  {
   "cell_type": "code",
   "execution_count": 12,
   "metadata": {},
   "outputs": [
    {
     "data": {
      "image/png": "[encoded data removed]",
      "text/plain": [
       "<matplotlib.figure.Figure at 0x1162d9898>"
      ]
     },
     "metadata": {},
     "output_type": "display_data"
    }
   ],
   "source": [
    "#### plot correlation matrix\n",
    "#assign color map\n",
    "cmap = sns.diverging_palette(200,15, as_cmap=True)\n",
    "\n",
    "# set up sns heatmap\n",
    "sns.heatmap(df_corr, xticklabels=df_corr.columns.values, \n",
    "yticklabels=df_corr.columns.values, cmap=cmap)\n",
    "\n",
    "#plot\n",
    "plt.title('Correlation Heatmap')\n",
    "plt.plot()\n",
    "plt.show()\n"
   ]
  },
  {
   "cell_type": "code",
   "execution_count": 13,
   "metadata": {},
   "outputs": [],
   "source": [
    "# print y - correlation\n"
   ]
  },
  {
   "cell_type": "code",
   "execution_count": 14,
   "metadata": {},
   "outputs": [
    {
     "name": "stdout",
     "output_type": "stream",
     "text": [
      "y                   1.000000\n",
      "poutcome_success    0.306788\n",
      "contact_cellular    0.135873\n",
      "pdays               0.103621\n",
      "job_other           0.102895\n",
      "Name: y, dtype: float64\n",
      "job_blue-collar    -0.072083\n",
      "campaign           -0.073172\n",
      "housing            -0.139173\n",
      "contact_unknown    -0.150935\n",
      "poutcome_unknown   -0.167051\n",
      "Name: y, dtype: float64\n"
     ]
    }
   ],
   "source": [
    "s_y_corr = pd.Series(df_corr.y).sort_values(ascending = False)\n",
    "print(s_y_corr.head(5))\n",
    "print(s_y_corr.tail(5))"
   ]
  },
  {
   "cell_type": "markdown",
   "metadata": {},
   "source": [
    "### No strong correlation between any variables, so no columns were removed to avoid colinearity.\n",
    "\n",
    "* **poutcome_success & contact cellular** had the highest correlations with y"
   ]
  },
  {
   "cell_type": "markdown",
   "metadata": {},
   "source": [
    "# Visual Exploratory Data Analysis(EDA)"
   ]
  },
  {
   "cell_type": "code",
   "execution_count": 15,
   "metadata": {},
   "outputs": [
    {
     "data": {
      "image/png": "[encoded data removed]",
      "text/plain": [
       "<matplotlib.figure.Figure at 0x1160dd978>"
      ]
     },
     "metadata": {},
     "output_type": "display_data"
    }
   ],
   "source": [
    "#age histogram \n",
    "plt.hist(df_dummies.age)\n",
    "plt.title('Age')\n",
    "plt.show()"
   ]
  },
  {
   "cell_type": "code",
   "execution_count": 16,
   "metadata": {},
   "outputs": [
    {
     "name": "stdout",
     "output_type": "stream",
     "text": [
      "new term deposit success rate: 13.25%\n",
      "\n",
      "y\n",
      "0    39922\n",
      "1     5289\n",
      "Name: y, dtype: int64\n"
     ]
    },
    {
     "data": {
      "image/png": "[encoded data removed]",
      "text/plain": [
       "<matplotlib.figure.Figure at 0x1170afa58>"
      ]
     },
     "metadata": {},
     "output_type": "display_data"
    }
   ],
   "source": [
    "#dependent variable EDA \n",
    "print(\"new term deposit success rate: \" + str(round((5289/39922*100),2)) +'%')\n",
    "print()\n",
    "print(df_dummies.groupby('y')['y'].count())\n",
    "\n",
    "sns.factorplot('y', data = df_dummies, kind='count')\n",
    "plt.title('New term deposits')\n",
    "plt.show()"
   ]
  },
  {
   "cell_type": "code",
   "execution_count": 17,
   "metadata": {},
   "outputs": [
    {
     "name": "stdout",
     "output_type": "stream",
     "text": [
      "poutcome success rate 3.46%\n",
      "\n",
      "poutcome_success\n",
      "0    43700\n",
      "1     1511\n",
      "Name: poutcome_success, dtype: int64\n"
     ]
    },
    {
     "data": {
      "image/png": "[encoded data removed]",
      "text/plain": [
       "<matplotlib.figure.Figure at 0x1170b6550>"
      ]
     },
     "metadata": {},
     "output_type": "display_data"
    }
   ],
   "source": [
    "#\n",
    "print('poutcome success rate ' + str(round((1511/43700*100),2)) + '%')\n",
    "print()\n",
    "print(df_dummies.groupby('poutcome_success')['poutcome_success'].count())\n",
    "\n",
    "sns.factorplot('poutcome_success', data = df_dummies, kind='count')\n",
    "plt.title('Poutcome success')\n",
    "plt.show()\n"
   ]
  },
  {
   "cell_type": "code",
   "execution_count": 18,
   "metadata": {
    "scrolled": true
   },
   "outputs": [
    {
     "name": "stdout",
     "output_type": "stream",
     "text": [
      "Success rate of term deposits based on prior marketing success 22.69%\n",
      "\n",
      "success rate of prior marketing success 64.73%\n",
      "\n",
      "y  poutcome_success\n",
      "0  0                   39389\n",
      "   1                     533\n",
      "1  0                    4311\n",
      "   1                     978\n",
      "dtype: int64\n"
     ]
    },
    {
     "data": {
      "image/png": "[encoded data removed]",
      "text/plain": [
       "<matplotlib.figure.Figure at 0x1170b64a8>"
      ]
     },
     "metadata": {},
     "output_type": "display_data"
    }
   ],
   "source": [
    "# look at y based on poutcome_success\n",
    "print('Success rate of term deposits based on prior marketing success ' + str(round((978/4311*100),2)) + '%')\n",
    "print()\n",
    "print('success rate of prior marketing success ' + str(round((978/1511*100),2)) + '%')\n",
    "print()\n",
    "print(df_dummies.groupby(['y','poutcome_success']).size())\n",
    "\n",
    "\n",
    "sns.factorplot('y', data = df_dummies, kind='count', hue = 'poutcome_success')\n",
    "plt.title('New term deposits based on poutcome_success')\n",
    "plt.show()\n"
   ]
  },
  {
   "cell_type": "code",
   "execution_count": 19,
   "metadata": {},
   "outputs": [
    {
     "name": "stderr",
     "output_type": "stream",
     "text": [
      "/Users/lynchno/anaconda3/lib/python3.6/site-packages/sklearn/utils/validation.py:475: DataConversionWarning: Data with input dtype int64 was converted to float64 by StandardScaler.\n",
      "  warnings.warn(msg, DataConversionWarning)\n"
     ]
    },
    {
     "data": {
      "image/png": "[encoded data removed]",
      "text/plain": [
       "<matplotlib.figure.Figure at 0x1174bfd30>"
      ]
     },
     "metadata": {},
     "output_type": "display_data"
    }
   ],
   "source": [
    "#assign features to X\n",
    "X = df_dummies.drop('y', axis=1).values\n",
    "\n",
    "# PCA reduction, which requires scaled features\n",
    "X = StandardScaler().fit_transform(X)\n",
    "pca = PCA()\n",
    "pca.fit(X)\n",
    "features = range(pca.n_components_)\n",
    "plt.bar(features, pca.explained_variance_)\n",
    "plt.xticks(features)\n",
    "plt.ylabel('variance')\n",
    "plt.xlabel('PCA feature')\n",
    "plt.show()\n",
    "\n",
    "# from graph, pick PCA(n_components = 7)"
   ]
  },
  {
   "cell_type": "code",
   "execution_count": 20,
   "metadata": {},
   "outputs": [],
   "source": [
    "# separate dataframes into x and y numpy arrays\n",
    "y = df_dummies.y.values\n",
    "\n",
    "#train test split 80/20\n",
    "X_train, X_test, y_train, y_test = train_test_split(X,y, test_size = 0.2, random_state = 123)\n"
   ]
  },
  {
   "cell_type": "code",
   "execution_count": 21,
   "metadata": {},
   "outputs": [
    {
     "name": "stdout",
     "output_type": "stream",
     "text": [
      "57.6 s ± 5.28 s per loop (mean ± std. dev. of 7 runs, 1 loop each)\n",
      "Tuned knn parameters: {'kneighborsclassifier__n_neighbors': 18}\n",
      "Best avg cross validation score is 0.8890732138907321\n"
     ]
    }
   ],
   "source": [
    "#standardized KNN\n",
    "knn_clf = make_pipeline(StandardScaler(), PCA(n_components=7), KNeighborsClassifier())\n",
    "#print(sorted(knn_clf.get_params().keys()))\n",
    "\n",
    "knn_grid = {'kneighborsclassifier__n_neighbors':np.arange(2,22,2)}\n",
    "knn_cv = GridSearchCV(knn_clf, param_grid = knn_grid, cv = 5)\n",
    "%timeit knn_cv.fit(X_train, y_train)\n",
    "print(\"Tuned knn parameters: {}\".format(knn_cv.best_params_))\n",
    "print(\"Best avg cross validation score is {}\".format(knn_cv.best_score_))"
   ]
  },
  {
   "cell_type": "code",
   "execution_count": 22,
   "metadata": {},
   "outputs": [
    {
     "name": "stdout",
     "output_type": "stream",
     "text": [
      "1min 28s ± 6.54 s per loop (mean ± std. dev. of 7 runs, 1 loop each)\n",
      "Tuned rf parameters: {'randomforestclassifier__criterion': 'gini', 'randomforestclassifier__n_estimators': 20}\n",
      "Best avg cross validation score is 0.8856171201061712\n"
     ]
    }
   ],
   "source": [
    "#RF model\n",
    "\n",
    "\n",
    "rf_clf = make_pipeline(StandardScaler(), PCA(n_components=7),RandomForestClassifier(random_state = 123))\n",
    "#print(sorted(rf_clf.get_params().keys()))\n",
    "\n",
    "param_grid = {'randomforestclassifier__n_estimators': np.arange(5, 30, 5),\n",
    "             'randomforestclassifier__criterion': [\"gini\", \"entropy\"]}\n",
    "rf_cv = GridSearchCV(rf_clf, param_grid, cv = 5)\n",
    "%timeit rf_cv.fit(X_train, y_train)\n",
    "\n",
    "print(\"Tuned rf parameters: {}\".format(rf_cv.best_params_))\n",
    "print(\"Best avg cross validation score is {}\".format(rf_cv.best_score_))\n"
   ]
  },
  {
   "cell_type": "code",
   "execution_count": 23,
   "metadata": {},
   "outputs": [
    {
     "name": "stdout",
     "output_type": "stream",
     "text": [
      "11min 39s ± 11.9 s per loop (mean ± std. dev. of 7 runs, 1 loop each)\n",
      "Tuned svc parameters: {'svc__C': 1.0, 'svc__kernel': 'rbf'}\n",
      "Best avg cross validation score is 0.8896261888962619\n"
     ]
    }
   ],
   "source": [
    "svc_clf = make_pipeline(StandardScaler(), PCA(n_components=7), SVC(random_state = 123))\n",
    "#print(svc_clf.get_params().keys())\n",
    "\n",
    "param_grid = {'svc__kernel':['linear', 'rbf'],'svc__C':np.arange(0.5, 2, 0.5)}\n",
    "\n",
    "svc_cv = GridSearchCV(svc_clf, param_grid, cv = 5)\n",
    "%timeit svc_cv.fit(X_train, y_train)\n",
    "\n",
    "print(\"Tuned svc parameters: {}\".format(svc_cv.best_params_))\n",
    "print(\"Best avg cross validation score is {}\".format(svc_cv.best_score_))\n"
   ]
  },
  {
   "cell_type": "code",
   "execution_count": 29,
   "metadata": {},
   "outputs": [
    {
     "name": "stdout",
     "output_type": "stream",
     "text": [
      "0\n",
      "cross val\n",
      "[0.88745127 0.88951559 0.89025301]\n",
      "mean cv score: 0.8891838794756287\n",
      "1\n",
      "cross val\n",
      "[0.88463133 0.88387525 0.88502696]\n",
      "mean cv score: 0.8855065475159272\n",
      "2\n",
      "cross val\n",
      "[0.88911006 0.88852024 0.89025301]\n",
      "mean cv score: 0.8890179456965299\n"
     ]
    }
   ],
   "source": [
    "# cross validation scores\n",
    "rf = make_pipeline(StandardScaler(), PCA(n_components=7), RandomForestClassifier(criterion='gini', n_estimators=20,random_state = 123))\n",
    "svc = make_pipeline(StandardScaler(), PCA(n_components=7), SVC(C=1, kernel = 'rbf', random_state=123))\n",
    "knn = make_pipeline(StandardScaler(), PCA(n_components=7), KNeighborsClassifier(n_neighbors = 18))\n",
    "l_models = [knn, rf, svc]\n",
    "\n",
    "\n",
    "for c,value in enumerate(l_models):\n",
    "    value.fit(X_train,y_train)\n",
    "    print(str(c))\n",
    "    print('cross val')\n",
    "    print(cross_val_score(value, X_train, y_train))\n",
    "    print('mean cv score: ' + str(np.mean(cross_val_score(value, X_train, y_train))))\n"
   ]
  },
  {
   "cell_type": "markdown",
   "metadata": {},
   "source": [
    "# graph training vs testing accuracy to look for signs of overfit"
   ]
  },
  {
   "cell_type": "markdown",
   "metadata": {},
   "source": [
    "## KNN"
   ]
  },
  {
   "cell_type": "code",
   "execution_count": 25,
   "metadata": {},
   "outputs": [
    {
     "data": {
      "image/png": "[encoded data removed]",
      "text/plain": [
       "<matplotlib.figure.Figure at 0x1170bc3c8>"
      ]
     },
     "metadata": {},
     "output_type": "display_data"
    }
   ],
   "source": [
    "neighbors = np.arange(5,40, 5)\n",
    "train_acc = np.empty(len(neighbors))\n",
    "test_acc = np.empty(len(neighbors))\n",
    "\n",
    "# test different K values\n",
    "\n",
    "for counter, values in enumerate(neighbors):\n",
    "    knn = make_pipeline(StandardScaler(),PCA(n_components=7),KNeighborsClassifier(n_neighbors=values))\n",
    "    knn.fit(X_train, y_train)\n",
    "    train_acc[counter] = knn.score(X_train, y_train)\n",
    "    test_acc[counter] = knn.score(X_test, y_test)\n",
    "\n",
    "### generate accuracy plot\n",
    "plt.title('KNN: Accuracy')\n",
    "plt.plot(neighbors, test_acc, label = 'Testing Accuracy')\n",
    "plt.plot(neighbors, train_acc, label = 'Training Accuracy')\n",
    "plt.legend()\n",
    "plt.xlabel('Number of Neighbors')\n",
    "plt.ylabel('Accuracy')\n",
    "plt.show()"
   ]
  },
  {
   "cell_type": "markdown",
   "metadata": {},
   "source": [
    "## RF"
   ]
  },
  {
   "cell_type": "code",
   "execution_count": 26,
   "metadata": {},
   "outputs": [
    {
     "data": {
      "image/png": "[encoded data removed]",
      "text/plain": [
       "<matplotlib.figure.Figure at 0x117786128>"
      ]
     },
     "metadata": {},
     "output_type": "display_data"
    }
   ],
   "source": [
    "estimators = np.arange(5,70, 5)\n",
    "train_acc = np.empty(len(estimators))\n",
    "test_acc = np.empty(len(estimators))\n",
    "\n",
    "for counter, values in enumerate(estimators):\n",
    "    rf = make_pipeline(StandardScaler(),PCA(n_components= 7),RandomForestClassifier(n_estimators=values, criterion='gini', random_state=123))\n",
    "    rf.fit(X_train, y_train)\n",
    "    train_acc[counter] = rf.score(X_train, y_train)\n",
    "    test_acc[counter] = rf.score(X_test, y_test)\n",
    "\n",
    "plt.title('RF : Accuracy')\n",
    "plt.plot(estimators, test_acc, label = 'Testing Accuracy')\n",
    "plt.plot(estimators, train_acc, label = 'Training Accuracy')\n",
    "plt.legend()\n",
    "plt.xlabel('Number of Decision trees')\n",
    "plt.ylabel('Accuracy')\n",
    "plt.show()"
   ]
  },
  {
   "cell_type": "code",
   "execution_count": 36,
   "metadata": {},
   "outputs": [
    {
     "name": "stdout",
     "output_type": "stream",
     "text": [
      "(36168, 31)\n",
      "(36168,)\n"
     ]
    }
   ],
   "source": [
    "print(X_train.shape)\n",
    "print(y_train.shape)"
   ]
  },
  {
   "cell_type": "markdown",
   "metadata": {},
   "source": [
    "## SVC"
   ]
  },
  {
   "cell_type": "code",
   "execution_count": 37,
   "metadata": {},
   "outputs": [
    {
     "data": {
      "image/png": "[encoded data removed]",
      "text/plain": [
       "<matplotlib.figure.Figure at 0x116ecdc50>"
      ]
     },
     "metadata": {},
     "output_type": "display_data"
    }
   ],
   "source": [
    "estimators = np.arange(0.5,2.5, .5)\n",
    "train_acc = np.empty(len(estimators))\n",
    "test_acc = np.empty(len(estimators))\n",
    "\n",
    "for counter, values in enumerate(estimators):\n",
    "    svc = make_pipeline(StandardScaler(),PCA(n_components=7),SVC(C=values, kernel ='rbf', random_state = 123))\n",
    "    svc.fit(X_train, y_train)\n",
    "    train_acc[counter] = svc.score(X_train, y_train)\n",
    "    test_acc[counter] = svc.score(X_test, y_test)\n",
    "\n",
    "plt.title('SVC : Accuracy')\n",
    "plt.plot(estimators, test_acc, label = 'Testing Accuracy')\n",
    "plt.plot(estimators, train_acc, label = 'Training Accuracy')\n",
    "plt.legend()\n",
    "plt.xlabel('C')\n",
    "plt.ylabel('Accuracy')\n",
    "plt.show()"
   ]
  },
  {
   "cell_type": "code",
   "execution_count": 38,
   "metadata": {},
   "outputs": [
    {
     "name": "stdout",
     "output_type": "stream",
     "text": [
      "0\n",
      "F1 score: 0.232\n",
      "\n",
      "confusion matrix\n",
      "[[7890   96]\n",
      " [ 906  151]]\n",
      "\n",
      "classification report\n",
      "             precision    recall  f1-score   support\n",
      "\n",
      "          0       0.90      0.99      0.94      7986\n",
      "          1       0.61      0.14      0.23      1057\n",
      "\n",
      "avg / total       0.86      0.89      0.86      9043\n",
      "\n",
      "\n",
      "1\n",
      "F1 score: 0.233\n",
      "\n",
      "confusion matrix\n",
      "[[7846  140]\n",
      " [ 899  158]]\n",
      "\n",
      "classification report\n",
      "             precision    recall  f1-score   support\n",
      "\n",
      "          0       0.90      0.98      0.94      7986\n",
      "          1       0.53      0.15      0.23      1057\n",
      "\n",
      "avg / total       0.85      0.89      0.86      9043\n",
      "\n",
      "\n",
      "2\n",
      "F1 score: 0.201\n",
      "\n",
      "confusion matrix\n",
      "[[7927   59]\n",
      " [ 932  125]]\n",
      "\n",
      "classification report\n",
      "             precision    recall  f1-score   support\n",
      "\n",
      "          0       0.89      0.99      0.94      7986\n",
      "          1       0.68      0.12      0.20      1057\n",
      "\n",
      "avg / total       0.87      0.89      0.85      9043\n",
      "\n",
      "\n"
     ]
    }
   ],
   "source": [
    "knn = make_pipeline(StandardScaler(), PCA(n_components=7), KNeighborsClassifier(n_neighbors = 18))\n",
    "rf = make_pipeline(StandardScaler(), PCA(n_components=7), RandomForestClassifier(criterion='gini', n_estimators=20,random_state=123))\n",
    "svc = make_pipeline(StandardScaler(), PCA(n_components=7), SVC(C=1.0, kernel = 'rbf', random_state=123))\n",
    "l_models = [knn, rf, svc]\n",
    "\n",
    "\n",
    "for c,value in enumerate(l_models):\n",
    "    value.fit(X_train, y_train)\n",
    "    y_pred = value.predict(X_test)\n",
    "    F1 = f1_score(y_test, y_pred)\n",
    "    print(str(c))\n",
    "    print('F1 score: %.3f' % F1)\n",
    "    print()\n",
    "    print('confusion matrix')\n",
    "    print(confusion_matrix(y_test, y_pred))\n",
    "    print()\n",
    "    print('classification report')\n",
    "    print(classification_report(y_test, y_pred))\n",
    "    print()\n"
   ]
  },
  {
   "cell_type": "code",
   "execution_count": null,
   "metadata": {},
   "outputs": [],
   "source": []
  }
 ],
 "metadata": {
  "kernelspec": {
   "display_name": "Python 3",
   "language": "python",
   "name": "python3"
  },
  "language_info": {
   "codemirror_mode": {
    "name": "ipython",
    "version": 3
   },
   "file_extension": ".py",
   "mimetype": "text/x-python",
   "name": "python",
   "nbconvert_exporter": "python",
   "pygments_lexer": "ipython3",
   "version": "3.6.4"
  }
 },
 "nbformat": 4,
 "nbformat_minor": 2
}
